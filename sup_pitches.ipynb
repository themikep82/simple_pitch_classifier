{
 "cells": [
  {
   "cell_type": "markdown",
   "metadata": {},
   "source": [
    "The year is 2080 AD, the inaugural season of the much anticipated ROBO-BATTER 5000 project from the University of Phoenix's Cybernetics Department. ROBO-BATTER has a famously mechanically perfect swing and uses advanced computer vision and telemetry to recognize and track all pitches and crush them for a homerun. Unfortunately there is a pre-swing mechanical warm up time engineering flaw, so ROBO-BATTER must decide prior to the pitch being thrown whether it will be a fastball or an offspeed pitch. If it guesses wrong, it somehow chops the ball right back to the pitcher for an easy groundout.\n",
    "\n",
    "Therefore, the success of ROBO-BATTER depends entirely on how well it can predict what class of pitch is coming next -- a fastball or an offspeed pitch."
   ]
  },
  {
   "cell_type": "code",
   "execution_count": 65,
   "metadata": {
    "collapsed": true
   },
   "outputs": [],
   "source": [
    "import pandas as pd\n",
    "import numpy as np\n",
    "import matplotlib.pyplot as plt\n",
    "from sklearn.tree import DecisionTreeClassifier\n",
    "from sklearn.ensemble import RandomForestClassifier\n",
    "from sklearn.model_selection import train_test_split\n",
    "from sklearn import metrics\n",
    "%matplotlib inline\n",
    "import warnings\n",
    "warnings.filterwarnings('ignore') #ain't got time for negativity in my life"
   ]
  },
  {
   "cell_type": "code",
   "execution_count": 40,
   "metadata": {
    "scrolled": false
   },
   "outputs": [],
   "source": [
    "#read in data from file\n",
    "raw_pitch_df = pd.read_csv('pitches.csv')"
   ]
  },
  {
   "cell_type": "code",
   "execution_count": 41,
   "metadata": {},
   "outputs": [
    {
     "data": {
      "text/plain": [
       "(718961, 125)"
      ]
     },
     "execution_count": 41,
     "metadata": {},
     "output_type": "execute_result"
    }
   ],
   "source": [
    "#look at # of rows and columns\n",
    "raw_pitch_df.shape"
   ]
  },
  {
   "cell_type": "code",
   "execution_count": 42,
   "metadata": {
    "scrolled": false
   },
   "outputs": [
    {
     "data": {
      "text/plain": [
       "uid                    0\n",
       "game_pk                0\n",
       "year                   0\n",
       "date                   0\n",
       "team_id_b              0\n",
       "team_id_p              0\n",
       "inning                 0\n",
       "top                    0\n",
       "at_bat_num             0\n",
       "pcount_at_bat          0\n",
       "pcount_pitcher         0\n",
       "balls                  0\n",
       "strikes                0\n",
       "fouls                  0\n",
       "outs                   0\n",
       "is_final_pitch         0\n",
       "final_balls            0\n",
       "final_strikes          0\n",
       "final_outs             0\n",
       "start_tfs              0\n",
       "start_tfs_zulu         0\n",
       "batter_id              0\n",
       "stand                  0\n",
       "b_height               0\n",
       "pitcher_id             0\n",
       "p_throws               0\n",
       "at_bat_des             0\n",
       "event                  0\n",
       "event2            710662\n",
       "event3            718627\n",
       "                   ...  \n",
       "runner4_end       718961\n",
       "runner4_event     718961\n",
       "runner4_score     718961\n",
       "runner4_rbi       718961\n",
       "runner4_earned    718961\n",
       "runner5_id        718961\n",
       "runner5_start     718961\n",
       "runner5_end       718961\n",
       "runner5_event     718961\n",
       "runner5_score     718961\n",
       "runner5_rbi       718961\n",
       "runner5_earned    718961\n",
       "runner6_id        718961\n",
       "runner6_start     718961\n",
       "runner6_end       718961\n",
       "runner6_event     718961\n",
       "runner6_score     718961\n",
       "runner6_rbi       718961\n",
       "runner6_earned    718961\n",
       "runner7_id        718961\n",
       "runner7_start     718961\n",
       "runner7_end       718961\n",
       "runner7_event     718961\n",
       "runner7_score     718961\n",
       "runner7_rbi       718961\n",
       "runner7_earned    718961\n",
       "created_at             0\n",
       "added_at               0\n",
       "modified_at            0\n",
       "modified_by            0\n",
       "Length: 125, dtype: int64"
      ]
     },
     "execution_count": 42,
     "metadata": {},
     "output_type": "execute_result"
    }
   ],
   "source": [
    "#look for data with all nulls\n",
    "raw_pitch_df.isnull().sum()"
   ]
  },
  {
   "cell_type": "code",
   "execution_count": 43,
   "metadata": {},
   "outputs": [
    {
     "data": {
      "text/plain": [
       "(718961, 76)"
      ]
     },
     "execution_count": 43,
     "metadata": {},
     "output_type": "execute_result"
    }
   ],
   "source": [
    "#drop all empty columns (all values are null or NaN)\n",
    "raw_pitch_df.dropna(axis='columns', how='all', inplace=True)\n",
    "raw_pitch_df.shape"
   ]
  },
  {
   "cell_type": "code",
   "execution_count": 44,
   "metadata": {},
   "outputs": [
    {
     "data": {
      "text/plain": [
       "FF    238541\n",
       "SL    109756\n",
       "SI     87740\n",
       "FT     81056\n",
       "CH     72641\n",
       "CU     56379\n",
       "FC     41702\n",
       "FS     10503\n",
       "KC      8490\n",
       "KN      4450\n",
       "IN      4058\n",
       "PO       559\n",
       "FO       329\n",
       "FA       204\n",
       "EP       134\n",
       "SC       120\n",
       "UN        17\n",
       "AB         2\n",
       "Name: pitch_type, dtype: int64"
      ]
     },
     "execution_count": 44,
     "metadata": {},
     "output_type": "execute_result"
    }
   ],
   "source": [
    "#lets see what pitch types are in the data set\n",
    "raw_pitch_df.pitch_type.value_counts()"
   ]
  },
  {
   "cell_type": "code",
   "execution_count": 45,
   "metadata": {
    "collapsed": true
   },
   "outputs": [],
   "source": [
    "#remove novelty pitches and non-standard pitch events like pitchouts\n",
    "raw_pitch_df=raw_pitch_df[raw_pitch_df.pitch_type.isin(['FF','SL','SI','FT','CH','CU','FC','FS','KC','FA'])]"
   ]
  },
  {
   "cell_type": "code",
   "execution_count": 46,
   "metadata": {
    "scrolled": false
   },
   "outputs": [
    {
     "data": {
      "text/plain": [
       "FF    238541\n",
       "SL    109756\n",
       "SI     87740\n",
       "FT     81056\n",
       "CH     72641\n",
       "CU     56379\n",
       "FC     41702\n",
       "FS     10503\n",
       "KC      8490\n",
       "FA       204\n",
       "Name: pitch_type, dtype: int64"
      ]
     },
     "execution_count": 46,
     "metadata": {},
     "output_type": "execute_result"
    }
   ],
   "source": [
    "#remaining pitch types\n",
    "raw_pitch_df.pitch_type.value_counts()"
   ]
  },
  {
   "cell_type": "code",
   "execution_count": 47,
   "metadata": {},
   "outputs": [],
   "source": [
    "#some feature creation/refinement\n",
    "raw_pitch_df['is_fastball']=np.where(raw_pitch_df.pitch_type.isin(['FF','SI','SI','FT','FA','FS']), 1, 0)\n",
    "raw_pitch_df['runner_on_1st']=np.where(~raw_pitch_df.on_1b.isnull(), 1, 0)\n",
    "raw_pitch_df['runner_on_2nd']=np.where(~raw_pitch_df.on_2b.isnull(), 1, 0)\n",
    "raw_pitch_df['runner_on_3rd']=np.where(~raw_pitch_df.on_3b.isnull(), 1, 0)\n",
    "raw_pitch_df['total_baserunners']=raw_pitch_df['runner_on_1st'] + raw_pitch_df['runner_on_2nd'] + raw_pitch_df['runner_on_3rd']\n",
    "raw_pitch_df['is_offspeed']=1-raw_pitch_df['is_fastball']"
   ]
  },
  {
   "cell_type": "code",
   "execution_count": 64,
   "metadata": {},
   "outputs": [
    {
     "data": {
      "text/plain": [
       "1    0.591283\n",
       "0    0.408717\n",
       "Name: is_fastball, dtype: float64"
      ]
     },
     "execution_count": 64,
     "metadata": {},
     "output_type": "execute_result"
    }
   ],
   "source": [
    "raw_pitch_df.is_fastball.value_counts(normalize=True)"
   ]
  },
  {
   "cell_type": "code",
   "execution_count": 49,
   "metadata": {},
   "outputs": [],
   "source": [
    "#create test and train datasets, 80/20 split\n",
    "test_df, train_df = train_test_split(raw_pitch_df, test_size=0.2)"
   ]
  },
  {
   "cell_type": "code",
   "execution_count": 50,
   "metadata": {},
   "outputs": [
    {
     "data": {
      "text/plain": [
       "(565609, 82)"
      ]
     },
     "execution_count": 50,
     "metadata": {},
     "output_type": "execute_result"
    }
   ],
   "source": [
    "test_df.shape"
   ]
  },
  {
   "cell_type": "markdown",
   "metadata": {},
   "source": [
    "Intelligently selecting features is the most important aspect of building a model like this. There are two primary goals when choosing features -- one is to find highly discriminatory features -- meaning features that do a good job of separating the response variable. The other is avoiding overfit, which can cause model performance to be artificially high. An example of an overfitting feature in this example would be break_length. This data is not known until after the pitch is thrown, so its sort of like giving the model the answer key before the test. break_length would be highly discriminatory since it would be a strong indicator of curveballs and sliders, which are offspeed, but not valuable in building a predictive model because it is not known at the time we need the predictions for the appropriate swing response.\n",
    "\n",
    "Therefore, we are trying to find *quantitative* data that is known and only known *before the pitch is thrown* -- essentially contextual information about the game. Balls, strikes, outs. Baserunners and things like that.\n",
    "\n",
    "Ideally we'd have pitcher and batter tendancies as well, but that is a large feature collection project."
   ]
  },
  {
   "cell_type": "code",
   "execution_count": 69,
   "metadata": {
    "collapsed": true
   },
   "outputs": [],
   "source": [
    "#selecting features for training\n",
    "\n",
    "features = ['inning',\n",
    "            'top',\n",
    "            'at_bat_num',\n",
    "            'pcount_at_bat',\n",
    "            'pcount_pitcher',\n",
    "            'balls',\n",
    "            'strikes',\n",
    "            'fouls',\n",
    "            'outs',\n",
    "            'runner_on_1st',\n",
    "            'runner_on_2nd',\n",
    "            'runner_on_3rd',\n",
    "            'total_baserunners']\n",
    "\n",
    "response = 'is_fastball'"
   ]
  },
  {
   "cell_type": "code",
   "execution_count": 70,
   "metadata": {},
   "outputs": [],
   "source": [
    "#create and train random forest\n",
    "runForrest=RandomForestClassifier(n_estimators=200, n_jobs=1, max_depth=10, max_features=10,\n",
    "                                    min_samples_leaf=10, min_samples_split=20)\n",
    "                                  \n",
    "runForrest.fit(train_df[features], train_df[response])\n",
    "\n",
    "probas=runForrest.predict_proba(test_df[features])\n",
    "preds=runForrest.predict(test_df[features])"
   ]
  },
  {
   "cell_type": "code",
   "execution_count": 71,
   "metadata": {
    "scrolled": true
   },
   "outputs": [
    {
     "name": "stdout",
     "output_type": "stream",
     "text": [
      "AUC: 0.629809387844\n",
      "logloss: 0.646872085667\n",
      "accuracy score: 0.602930646436\n",
      "null accuracy: 0.591203463877\n",
      "[[ 70878 160341]\n",
      " [ 64245 270145]]\n"
     ]
    }
   ],
   "source": [
    "#some model performance metrics\n",
    "print('AUC: ' + str(metrics.roc_auc_score(y_score=probas[:,1], y_true=test_df[response])))\n",
    "\n",
    "print('logloss: ' + str(metrics.log_loss(y_pred=probas[:,1], y_true=test_df[response])))\n",
    "\n",
    "print('accuracy score: ' + str(metrics.accuracy_score(test_df[response], preds)))\n",
    "\n",
    "print('null accuracy: ' + str(max(test_df[response].mean(), 1 - test_df[response].mean())))\n",
    "\n",
    "print(metrics.confusion_matrix(test_df[response], preds))"
   ]
  },
  {
   "cell_type": "markdown",
   "metadata": {},
   "source": [
    "AUC of .63 means we're making some good but not great predictions. Actually a bit better than expected given the small number of features. However, it is performing only slightly better than the null hypothesis of guessing fastball every single pitch.\n",
    "\n",
    "Confusion matrix included to show the counts of True Positives, True Negatives, False Positives and False Negatives"
   ]
  },
  {
   "cell_type": "code",
   "execution_count": 72,
   "metadata": {},
   "outputs": [
    {
     "name": "stdout",
     "output_type": "stream",
     "text": [
      "0.602930646436\n",
      "0.807874039295\n",
      "0.306540552463\n",
      "0.693459447537\n",
      "0.627534925642\n"
     ]
    }
   ],
   "source": [
    "# save confusion matrix and slice into four pieces\n",
    "confusion = metrics.confusion_matrix(test_df[response], preds)\n",
    "TP = confusion[1, 1]\n",
    "TN = confusion[0, 0]\n",
    "FP = confusion[0, 1]\n",
    "FN = confusion[1, 0]\n",
    "\n",
    "\n",
    "print((TP + TN) / float(TP + TN + FP + FN)) #Accuracy\n",
    "print(TP / float(TP + FN)) #Sensitivity\n",
    "print(TN / float(TN + FP)) #Specificity\n",
    "print(FP / float(TN + FP)) #FPR\n",
    "print(TP / float(TP + FP)) #Precision"
   ]
  },
  {
   "cell_type": "code",
   "execution_count": 75,
   "metadata": {},
   "outputs": [
    {
     "data": {
      "text/plain": [
       "<matplotlib.text.Text at 0x7efc8e3e59b0>"
      ]
     },
     "execution_count": 75,
     "metadata": {},
     "output_type": "execute_result"
    },
    {
     "data": {
      "image/png": "[encoded data removed]",
      "text/plain": [
       "<matplotlib.figure.Figure at 0x7efc7c530048>"
      ]
     },
     "metadata": {},
     "output_type": "display_data"
    }
   ],
   "source": [
    "# histogram of predicted probabilities\n",
    "plt.hist(probas[:,1], bins=10)\n",
    "plt.xlim(0, 1)\n",
    "plt.title('Histogram of predicted probabilities')\n",
    "plt.xlabel('Predicted probability of fastball')\n",
    "plt.ylabel('Frequency')"
   ]
  },
  {
   "cell_type": "markdown",
   "metadata": {},
   "source": [
    "Histogram of the predicted fastball probabilities show that the model is not very confident when making preds. There are some circumstances where it is very confident a fastball is coming (like 3-0 counts). Other than those highly predictable circumstances, most probablities are between 40%-70% fastball."
   ]
  },
  {
   "cell_type": "code",
   "execution_count": 74,
   "metadata": {},
   "outputs": [
    {
     "data": {
      "image/png": "[encoded data removed]",
      "text/plain": [
       "<matplotlib.figure.Figure at 0x7efc8f9ca7b8>"
      ]
     },
     "metadata": {},
     "output_type": "display_data"
    }
   ],
   "source": [
    "fpr, tpr, thresholds = metrics.roc_curve(test_df[response], probas[:,1])\n",
    "plt.plot(fpr, tpr)\n",
    "plt.xlim([0.0, 1.0])\n",
    "plt.ylim([0.0, 1.0])\n",
    "plt.title('ROC curve for fastball predictor')\n",
    "plt.xlabel('False Positive Rate')\n",
    "plt.ylabel('True Positive Rate')\n",
    "plt.grid(True)"
   ]
  },
  {
   "cell_type": "markdown",
   "metadata": {},
   "source": [
    "ROC curve shows that there is not a lot of certainty between the probabilities of the 2 pitch classifications, meaning this model still needs quite a bit of work. As mentioned before, the best thing to do would be gather more features, which is usually the most labor intensive part of analysis. Beyond that, there might be some small incremental gains in performance if we did some hyperparameter tuning or a grid search -- but generally your predictions will only be as good as your data and features."
   ]
  },
  {
   "cell_type": "markdown",
   "metadata": {},
   "source": [
    "In the end, ROBO-BATTER still had a great rookie season. He set all kinds of records, like seeing only 1 pitch per plate appearance and becoming the leagues first and only 'Two True Outcome' hitter. Teammate Bartolo Colon described him as \"Adam Dunn, except way funnier\". With a correct response rate of 60.3%, he was able to turn his 650 plate appearances into 392 HR and 258 groundouts, good for a slash line of .603/.603/2.412, finishing 3rd in MVP voting behind the genetically modified reanimated corpse of Barry Bonds and Mike Trout."
   ]
  }
 ],
 "metadata": {
  "kernelspec": {
   "display_name": "Python 3",
   "language": "python",
   "name": "python3"
  },
  "language_info": {
   "codemirror_mode": {
    "name": "ipython",
    "version": 3
   },
   "file_extension": ".py",
   "mimetype": "text/x-python",
   "name": "python",
   "nbconvert_exporter": "python",
   "pygments_lexer": "ipython3",
   "version": "3.6.1"
  }
 },
 "nbformat": 4,
 "nbformat_minor": 2
}
